{
 "cells": [
  {
   "cell_type": "code",
   "execution_count": 155,
   "metadata": {},
   "outputs": [],
   "source": [
    "import numpy as np\n",
    "from numpy.linalg import inv\n",
    "import matplotlib.pyplot as plt\n",
    "import pandas\n",
    "from numpy.linalg import matrix_rank\n",
    "from sklearn.datasets import make_spd_matrix\n",
    "import random\n",
    "import math"
   ]
  },
  {
   "cell_type": "code",
   "execution_count": 156,
   "metadata": {},
   "outputs": [],
   "source": [
    "A = np.random.rand(10, 10) * 10\n",
    "f = np.random.rand(10, 1) * 10\n",
    "\n",
    "A = np.array([[3.0, 2.0, -5.0], [2.0, -1.0, 3.0], [1.0, 2.0, -1.0]])\n",
    "f = np.array([-1.0, 13.0, 9.0])\n",
    "size = np.size(A[0])\n"
   ]
  },
  {
   "cell_type": "markdown",
   "metadata": {},
   "source": [
    "# Gauss method"
   ]
  },
  {
   "cell_type": "code",
   "execution_count": 157,
   "metadata": {},
   "outputs": [],
   "source": [
    "def swap_lines(A, f, i, k):\n",
    "    temp = np.copy(A[i])\n",
    "    A[i] = np.copy(A[k])\n",
    "    A[k] = np.copy(temp)\n",
    "    temp2 = np.copy(f[i])\n",
    "    f[i] = np.copy(f[k])\n",
    "    f[k] = np.copy(temp2)\n",
    "\n",
    "def max_in_col(A, k, iter):\n",
    "    max = -10\n",
    "    num = -1\n",
    "    for i in range(iter, size):\n",
    "        if A[i, k] > max:\n",
    "            num = i\n",
    "            max = A[i, k]\n",
    "    return num\n",
    "           \n",
    "def step(A, f, iter):\n",
    "    num = max_in_col(A, iter, iter)\n",
    "    swap_lines(A, f, iter, num)\n",
    "    for i in range(0, size):\n",
    "        if(i == iter):\n",
    "            continue\n",
    "        temp = (A[i, iter] / A[iter, iter]) * np.copy(A[iter])\n",
    "        #print(temp)\n",
    "        temp2 = (A[i, iter] / A[iter, iter]) * np.copy(f[iter])\n",
    "        A[i] = A[i] - temp\n",
    "        #print(A[i])\n",
    "        f[i] = f[i] - temp2\n",
    "\n",
    "\n",
    "def solve_gauss(A, f):\n",
    "    for i in range(0, size):\n",
    "        step(A, f, i)\n",
    "    solution = np.array([f[i] / A[i, i] for i in range(0, size)])\n",
    "    return solution\n",
    "    "
   ]
  },
  {
   "cell_type": "code",
   "execution_count": 158,
   "metadata": {},
   "outputs": [
    {
     "name": "stdout",
     "output_type": "stream",
     "text": [
      "[3. 5. 4.]\n"
     ]
    }
   ],
   "source": [
    "u = solve_gauss(A, f)\n",
    "#print(A)\n",
    "print(u)"
   ]
  },
  {
   "cell_type": "markdown",
   "metadata": {},
   "source": [
    "# The Jacobi's method"
   ]
  },
  {
   "cell_type": "code",
   "execution_count": 124,
   "metadata": {},
   "outputs": [],
   "source": [
    "def generate_matrix():\n",
    "    A = []\n",
    "    i = 0\n",
    "    while i < 100:\n",
    "        A = np.random.rand(10, 10) * 10\n",
    "        count = 0\n",
    "        for j in range(10):\n",
    "            A[j, j] *= 20\n",
    "            A_cp = np.abs(A)\n",
    "            if A_cp[j, j] > np.sum(A_cp[j]) - A_cp[j, j]:\n",
    "                count += 1\n",
    "            if count == 10:\n",
    "                break\n",
    "        i += 1\n",
    "    return A\n",
    "\n",
    "def solve_jacobi(A, f, epsilon):\n",
    "    L = np.array([[0.0]*10]*10)\n",
    "    D = np.array([[0.0]*10]*10)\n",
    "    U = np.array([[0.0]*10]*10)\n",
    "\n",
    "    for i in range(10):\n",
    "        for j in range(10):\n",
    "            if i < j:\n",
    "                U[i, j] = A[i, j]\n",
    "            elif i > j:\n",
    "                L[i, j] = A[i, j]\n",
    "            else:\n",
    "                D[i, j] = A[i, j]\n",
    "\n",
    "    u = np.array([1.0]*10)\n",
    "    u_prev = np.array([0.0]*10)\n",
    "    while abs(np.linalg.norm(u - u_prev)) >= epsilon:\n",
    "        u_prev = u\n",
    "        u = -np.matmul(np.matmul(inv(D), L + U), u_prev) + np.matmul(inv(D), f)\n",
    "    return u"
   ]
  },
  {
   "cell_type": "code",
   "execution_count": 127,
   "metadata": {},
   "outputs": [
    {
     "name": "stdout",
     "output_type": "stream",
     "text": [
      "[0.06131466 0.00510049 0.01356218 0.07263825 0.04341065 0.01481582\n",
      " 0.06140415 0.17198525 0.0186502  0.01361127]\n",
      "[0.06248627 0.00543919 0.01383643 0.07512049 0.04388594 0.0152601\n",
      " 0.06263709 0.17411599 0.01990186 0.01415123]\n"
     ]
    }
   ],
   "source": [
    "A = generate_matrix()\n",
    "\n",
    "f = np.array([random.random()*10]*10)\n",
    "size = 10\n",
    "\n",
    "u = solve_jacobi(A, f, 0.01)\n",
    "print(u)\n",
    "\n",
    "u = solve_gauss(A, f)\n",
    "print(u)\n",
    "\n",
    "\n"
   ]
  },
  {
   "cell_type": "markdown",
   "metadata": {},
   "source": [
    "# The Seidel's method"
   ]
  },
  {
   "cell_type": "code",
   "execution_count": 143,
   "metadata": {},
   "outputs": [],
   "source": [
    "def solve_seidel(A, f, epsilon):\n",
    "    L = np.array([[0.0]*10]*10)\n",
    "    D = np.array([[0.0]*10]*10)\n",
    "    U = np.array([[0.0]*10]*10)\n",
    "\n",
    "    for i in range(10):\n",
    "        for j in range(10):\n",
    "            if i < j:\n",
    "                U[i, j] = A[i, j]\n",
    "            elif i > j:\n",
    "                L[i, j] = A[i, j]\n",
    "            else:\n",
    "                D[i, j] = A[i, j]\n",
    "\n",
    "    u = np.array([1.0]*10)\n",
    "    u_prev = np.array([0.0]*10)\n",
    "    while abs(np.linalg.norm(u - u_prev)) >= epsilon:\n",
    "        u_prev = u\n",
    "        u = - np.matmul(np.matmul(inv(L + D), U), u_prev) + np.matmul(inv(L + D), f)\n",
    "    return u"
   ]
  },
  {
   "cell_type": "code",
   "execution_count": 146,
   "metadata": {},
   "outputs": [
    {
     "name": "stdout",
     "output_type": "stream",
     "text": [
      "[2.7176229  1.84092671 1.08485811 1.6671391  0.49303536 1.52671435\n",
      " 0.82265043 1.2457214  1.61568585 0.5878274 ]\n",
      "[2.74667021 1.84684538 1.0862683  1.65604507 0.47521724 1.52043663\n",
      " 0.85114134 1.24483878 1.61854529 0.59215618]\n"
     ]
    }
   ],
   "source": [
    "A = make_spd_matrix(10) * 10\n",
    "f = np.array([random.random()*10]*10)\n",
    "size = 10\n",
    "\n",
    "u = solve_seidel(A, f, 0.01)\n",
    "print(u)\n",
    "\n",
    "u = solve_gauss(A, f)\n",
    "print(u)"
   ]
  },
  {
   "cell_type": "markdown",
   "metadata": {},
   "source": [
    "# The steepest descent method"
   ]
  },
  {
   "cell_type": "code",
   "execution_count": 173,
   "metadata": {},
   "outputs": [],
   "source": [
    "def iter_par(A, u, f):\n",
    "    x = np.matmul(A, u) - f \n",
    "    par = np.matmul(x, x) / np.matmul(np.matmul(A, x), x)\n",
    "    return par\n",
    "\n",
    "def solve_st_descent(A, f, epsilon):\n",
    "    u = np.array([0.0]*10)\n",
    "    u_prev = np.array([1.0]*10)\n",
    "    while abs(np.linalg.norm(u - u_prev)) >= epsilon:\n",
    "        u_prev = u\n",
    "        tau = iter_par(A, u, f)\n",
    "        u = u - tau * (np.matmul(A, u) - f)\n",
    "    return u"
   ]
  },
  {
   "cell_type": "code",
   "execution_count": 178,
   "metadata": {},
   "outputs": [
    {
     "name": "stdout",
     "output_type": "stream",
     "text": [
      "[0.6826137  0.44520224 1.34777105 0.73033226 0.23624584 1.46608218\n",
      " 1.48014578 0.88628905 1.24391092 2.31560023]\n",
      "[0.68184392 0.44469827 1.34869661 0.72970078 0.23562243 1.46644316\n",
      " 1.48077821 0.88597957 1.24466646 2.31631793]\n"
     ]
    }
   ],
   "source": [
    "A = make_spd_matrix(10) * 10\n",
    "f = np.array([random.random()*10]*10)\n",
    "size = 10\n",
    "\n",
    "u = solve_st_descent(A, f, 0.0001)\n",
    "print(u)\n",
    "\n",
    "u = solve_gauss(A, f)\n",
    "print(u)"
   ]
  },
  {
   "cell_type": "markdown",
   "metadata": {},
   "source": [
    "# The method of least discrepancies"
   ]
  },
  {
   "cell_type": "code",
   "execution_count": 179,
   "metadata": {},
   "outputs": [],
   "source": [
    "def iter_par(A, u, f):\n",
    "    x = np.matmul(A, np.matmul(A, u) - f)\n",
    "    par = np.matmul(x, np.matmul(A, u) - f) / np.matmul(x, x)\n",
    "    return par\n",
    "\n",
    "def solve_lst_discr(A, f, epsilon):\n",
    "    u = np.array([1.0]*10)\n",
    "    u_prev = np.array([0.0]*10)\n",
    "    while abs(np.linalg.norm(u - u_prev)) >= epsilon:\n",
    "        u_prev = u\n",
    "        tau = iter_par(A, u, f)\n",
    "        u = u - tau * (np.matmul(A, u) - f)\n",
    "    return u"
   ]
  },
  {
   "cell_type": "code",
   "execution_count": 180,
   "metadata": {},
   "outputs": [
    {
     "name": "stdout",
     "output_type": "stream",
     "text": [
      "[0.21497239 0.14159678 0.04778772 1.37026184 0.93576373 0.01711002\n",
      " 1.70666097 0.34297301 0.67637019 0.43433016]\n",
      "[0.21401187 0.14080982 0.04392427 1.37918434 0.93767629 0.0093438\n",
      " 1.71713156 0.34044884 0.67540396 0.43446597]\n"
     ]
    }
   ],
   "source": [
    "A = make_spd_matrix(10) * 10\n",
    "f = np.array([random.random()*10]*10)\n",
    "size = 10\n",
    "\n",
    "u = solve_lst_discr(A, f, 0.0001)\n",
    "print(u)\n",
    "\n",
    "u = solve_gauss(A, f)\n",
    "print(u)"
   ]
  }
 ],
 "metadata": {
  "kernelspec": {
   "display_name": "Python 3.9.13 64-bit",
   "language": "python",
   "name": "python3"
  },
  "language_info": {
   "codemirror_mode": {
    "name": "ipython",
    "version": 3
   },
   "file_extension": ".py",
   "mimetype": "text/x-python",
   "name": "python",
   "nbconvert_exporter": "python",
   "pygments_lexer": "ipython3",
   "version": "3.9.13"
  },
  "orig_nbformat": 4,
  "vscode": {
   "interpreter": {
    "hash": "b0fa6594d8f4cbf19f97940f81e996739fb7646882a419484c72d19e05852a7e"
   }
  }
 },
 "nbformat": 4,
 "nbformat_minor": 2
}
